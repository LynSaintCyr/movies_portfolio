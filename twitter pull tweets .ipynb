{
 "cells": [
  {
   "cell_type": "code",
   "execution_count": 1,
   "id": "eeec953c",
   "metadata": {},
   "outputs": [],
   "source": [
    "import snscrape.modules.twitter as sntwitter\n",
    "import pandas as pd"
   ]
  },
  {
   "cell_type": "code",
   "execution_count": 2,
   "id": "fa875d9a",
   "metadata": {},
   "outputs": [],
   "source": [
    "query = \"Captain America: The First Avenger\"\n",
    "tweets = []\n",
    "limit = 5000"
   ]
  },
  {
   "cell_type": "code",
   "execution_count": 3,
   "id": "894ae370",
   "metadata": {},
   "outputs": [
    {
     "name": "stderr",
     "output_type": "stream",
     "text": [
      "C:\\Users\\new\\AppData\\Local\\Temp\\ipykernel_19232\\1092902452.py:8: FutureWarning: username is deprecated, use user.username instead\n",
      "  tweets.append([tweet.date, tweet.username, tweet.content])\n"
     ]
    }
   ],
   "source": [
    "for tweet in sntwitter.TwitterSearchScraper(query).get_items():\n",
    "    \n",
    "    # print(vars(tweet))\n",
    "    # break\n",
    "    if len(tweets) == limit:\n",
    "        break\n",
    "    else:\n",
    "        tweets.append([tweet.date, tweet.username, tweet.content])"
   ]
  },
  {
   "cell_type": "code",
   "execution_count": 4,
   "id": "87a3b228",
   "metadata": {},
   "outputs": [
    {
     "name": "stdout",
     "output_type": "stream",
     "text": [
      "                          Date            User  \\\n",
      "0    2022-11-17 03:11:52+00:00         ozboogs   \n",
      "1    2022-11-17 02:20:07+00:00  THEREELMARQUIS   \n",
      "2    2022-11-16 23:18:05+00:00        Spyjoey1   \n",
      "3    2022-11-16 23:14:29+00:00   Actionfigurea   \n",
      "4    2022-11-16 21:48:41+00:00    eddiotsavant   \n",
      "...                        ...             ...   \n",
      "4995 2022-06-18 12:54:27+00:00   JohnHuwEvans2   \n",
      "4996 2022-06-18 11:02:25+00:00        HashtaVP   \n",
      "4997 2022-06-18 11:01:00+00:00      BandJGifts   \n",
      "4998 2022-06-18 10:53:35+00:00   EemaShelYuval   \n",
      "4999 2022-06-18 10:05:31+00:00       dlwIlrrma   \n",
      "\n",
      "                                                  Tweet  \n",
      "0     Captain America: The First Avenger\\nThe Fugiti...  \n",
      "1     @MrNiceGuy513 @Seedalicious @JordanMaison @sum...  \n",
      "2     @mrbrianrowe Sucker Punch (so long Rocket) \\nC...  \n",
      "3     Marvel Legends Series Captain America: The Fir...  \n",
      "4     @benbatemanmedia This how I felt during the fi...  \n",
      "...                                                 ...  \n",
      "4995  @5by5Creativity It's curious that very memorab...  \n",
      "4996  5) Captain America: The First Avenger- 7/10 \\n...  \n",
      "4997  Captain America The Ultimate Guide to the Firs...  \n",
      "4998  So that finishes Captain America The First Ave...  \n",
      "4999  Captain America: The First Avenger on TV Time ...  \n",
      "\n",
      "[5000 rows x 3 columns]\n"
     ]
    }
   ],
   "source": [
    "df = pd.DataFrame(tweets, columns=['Date', 'User', 'Tweet'])\n",
    "print(df)"
   ]
  },
  {
   "cell_type": "code",
   "execution_count": null,
   "id": "bc00a3c1",
   "metadata": {},
   "outputs": [],
   "source": []
  },
  {
   "cell_type": "code",
   "execution_count": 5,
   "id": "d9521595",
   "metadata": {},
   "outputs": [],
   "source": [
    " df.to_csv('Captian.csv')"
   ]
  }
 ],
 "metadata": {
  "kernelspec": {
   "display_name": "Python 3 (ipykernel)",
   "language": "python",
   "name": "python3"
  },
  "language_info": {
   "codemirror_mode": {
    "name": "ipython",
    "version": 3
   },
   "file_extension": ".py",
   "mimetype": "text/x-python",
   "name": "python",
   "nbconvert_exporter": "python",
   "pygments_lexer": "ipython3",
   "version": "3.9.12"
  }
 },
 "nbformat": 4,
 "nbformat_minor": 5
}
